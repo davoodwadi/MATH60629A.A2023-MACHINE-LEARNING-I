{
  "nbformat": 4,
  "nbformat_minor": 0,
  "metadata": {
    "colab": {
      "provenance": [],
      "authorship_tag": "ABX9TyMaLCOl9F0H7bsO594kifI9",
      "include_colab_link": true
    },
    "kernelspec": {
      "name": "python3",
      "display_name": "Python 3"
    },
    "language_info": {
      "name": "python"
    }
  },
  "cells": [
    {
      "cell_type": "markdown",
      "metadata": {
        "id": "view-in-github",
        "colab_type": "text"
      },
      "source": [
        "<a href=\"https://colab.research.google.com/github/davoodwadi/MATH60629A.A2023-MACHINE-LEARNING-I/blob/main/MATH60629A_Homework.ipynb\" target=\"_parent\"><img src=\"https://colab.research.google.com/assets/colab-badge.svg\" alt=\"Open In Colab\"/></a>"
      ]
    },
    {
      "cell_type": "markdown",
      "source": [
        "Due date: **October 24, 2023**"
      ],
      "metadata": {
        "id": "ZMzxzgszc1T8"
      }
    },
    {
      "cell_type": "markdown",
      "source": [
        "# Instructions:\n",
        "- The homework is due by 11:59PM EST on the due date. Please upload a PDF\n",
        "version of your assignment on ZoneCours.\n",
        "- The homework is worth 20% of the course’s final grade.\n",
        "- Assignments are to be done individually."
      ],
      "metadata": {
        "id": "3S2tSYA_dDRT"
      }
    },
    {
      "cell_type": "markdown",
      "source": [
        "- Please provide your code answers in the code block under each question and verbal answers in text boxes assigned in the notebook (where applicable).\n",
        "- Please run the notebook before the submission so that the outputs are displayed.\n",
        "- Please make sure that your results are reproducible. You may use random seeds from `random` and `numpy` packages. For `scikit-learn` modules, you may use the `random_state` argument."
      ],
      "metadata": {
        "id": "W4enGh0mWFYj"
      }
    },
    {
      "cell_type": "code",
      "source": [
        "# enter you full name and HEC ID\n",
        "full_name = \"\"\n",
        "HEC_ID = \"\""
      ],
      "metadata": {
        "id": "pHTrFoJPc_DV"
      },
      "execution_count": null,
      "outputs": []
    },
    {
      "cell_type": "markdown",
      "source": [
        "# Classification **(7pt)**\n",
        "We will use a synthetic dataset. It is available [here](https://github.com/davoodwadi/MATH60629A.A2023-MACHINE-LEARNING-I/raw/main/data/a22_devoir_q2-classification.npz).\n",
        "\n",
        "Once the data are accessible from your current working directory, you can\n",
        "load them using the following code:\n",
        "\n",
        "`data = np.load(\"a22_devoir_q2-classification.npz\")`\n",
        "\n",
        "`X = data[\"X\"]`\n",
        "\n",
        "`y = data[\"y\"]`"
      ],
      "metadata": {
        "id": "yL_P_eRlWvI0"
      }
    },
    {
      "cell_type": "code",
      "source": [
        "# download and load the data\n",
        "!wget -P /content https://github.com/davoodwadi/MATH60629A.A2023-MACHINE-LEARNING-I/raw/main/data/a22_devoir_q2-classification.npz\n",
        "\n",
        "[Your code here]"
      ],
      "metadata": {
        "id": "2b3YoSN-iEEw"
      },
      "execution_count": null,
      "outputs": []
    },
    {
      "cell_type": "markdown",
      "source": [
        "**Exploratory Data Analysis**"
      ],
      "metadata": {
        "id": "ilYIOZaUDl4c"
      }
    },
    {
      "cell_type": "markdown",
      "source": [
        "1. (**0.5pt**) Plot the features, X, and color each datum based on its class. (*Hint:* You may use the `hue` argument in the `seaborn` package.)\n"
      ],
      "metadata": {
        "id": "mKm66VTy3W-1"
      }
    },
    {
      "cell_type": "code",
      "source": [
        "[Your code here]"
      ],
      "metadata": {
        "id": "f4smPPN32mJJ"
      },
      "execution_count": null,
      "outputs": []
    },
    {
      "cell_type": "markdown",
      "source": [
        "2. (**0.5pt**) Based on the plot, is a classifier with a linear margin a good choice for this classification task?"
      ],
      "metadata": {
        "id": "rsUzCQ544KGc"
      }
    },
    {
      "cell_type": "markdown",
      "source": [
        "**answer**\n",
        "\n",
        "[____]"
      ],
      "metadata": {
        "id": "uZcoYpsZ4LED"
      }
    },
    {
      "cell_type": "markdown",
      "source": [
        "**3. (1pt) Split you data into *training*, *validation*, and *test* sets.**\n",
        "- Use 60% of the data for training, 20% for validation, and 20% for testing\n",
        "- If using `train_test_split` function from `scikit-learn`, use `random state=1234`"
      ],
      "metadata": {
        "id": "M41BO96AjejV"
      }
    },
    {
      "cell_type": "code",
      "source": [
        "[Your code here]"
      ],
      "metadata": {
        "id": "91Rsi17TjNXU"
      },
      "execution_count": null,
      "outputs": []
    },
    {
      "cell_type": "markdown",
      "source": [
        "4. **(1pt)** Explore the distribution of the classes in the entire dataset, training set, validation set, and test set."
      ],
      "metadata": {
        "id": "xldQjrD9mVEM"
      }
    },
    {
      "cell_type": "code",
      "source": [
        "# distribution of the entire dataset\n",
        "[Your code here]"
      ],
      "metadata": {
        "id": "Gj7zh2n1otn5"
      },
      "execution_count": null,
      "outputs": []
    },
    {
      "cell_type": "code",
      "source": [
        "# distribution of the training set\n",
        "[Your code here]"
      ],
      "metadata": {
        "id": "peIbGo7CntRI"
      },
      "execution_count": null,
      "outputs": []
    },
    {
      "cell_type": "code",
      "source": [
        "# distribution of the validation set\n",
        "[Your code here]"
      ],
      "metadata": {
        "id": "N0lUXiafoAPP"
      },
      "execution_count": null,
      "outputs": []
    },
    {
      "cell_type": "code",
      "source": [
        "# distribution of the test set\n",
        "[Your code here]"
      ],
      "metadata": {
        "id": "s1GU0sA1ntOP"
      },
      "execution_count": null,
      "outputs": []
    },
    {
      "cell_type": "markdown",
      "source": [
        "5. **(0.5pt)** Is each subset balanced?\n"
      ],
      "metadata": {
        "id": "c3CkuMXhm62Q"
      }
    },
    {
      "cell_type": "markdown",
      "source": [
        "**answer**\n",
        "\n",
        "[____]"
      ],
      "metadata": {
        "id": "YrvH8dDeFL3B"
      }
    },
    {
      "cell_type": "markdown",
      "source": [
        "6. **(0.5pt)** How can the imbalance of each subset affect prediction accuracy?"
      ],
      "metadata": {
        "id": "AP0nGTIXFQWv"
      }
    },
    {
      "cell_type": "markdown",
      "source": [
        "**answer**\n",
        "\n",
        "[____]"
      ],
      "metadata": {
        "id": "PCSsSLdB1dqS"
      }
    },
    {
      "cell_type": "markdown",
      "source": [
        "7. **0.5** If the training/validation/test sets are not balanced, adjust your code to recreate balanced training/validation/test sets.\n",
        "\n",
        "*Hint:* You may use the `stratify` argument in the `train_test_split` function to help with the balance of the splits."
      ],
      "metadata": {
        "id": "DeSwz_hn00gB"
      }
    },
    {
      "cell_type": "code",
      "source": [
        "[Your code here]"
      ],
      "metadata": {
        "id": "3QyhxNg508eQ"
      },
      "execution_count": null,
      "outputs": []
    },
    {
      "cell_type": "markdown",
      "source": [
        "## SVM for classfication\n",
        "\n",
        "8. **(1pt)** Train a linear SVM on the training set for each one of these C hyperparameter values: {0:001; 0:01; 0:1; 1; 10}. Find the best hyperparameter on the validation set."
      ],
      "metadata": {
        "id": "n90URJTurUEb"
      }
    },
    {
      "cell_type": "code",
      "source": [
        "[Your code here]"
      ],
      "metadata": {
        "id": "bjjK2Oeeqh_T"
      },
      "execution_count": null,
      "outputs": []
    },
    {
      "cell_type": "markdown",
      "source": [
        "9. **(1pt)** Using the best hyperparameter C, evaluate the accuracy, precision, recall, and F1-score on the test set."
      ],
      "metadata": {
        "id": "uNRrX4Jxw0En"
      }
    },
    {
      "cell_type": "code",
      "source": [
        "[Your code here]"
      ],
      "metadata": {
        "id": "9vOjObi4gXzo"
      },
      "execution_count": null,
      "outputs": []
    },
    {
      "cell_type": "markdown",
      "source": [
        "10. **(0.5pt)** Plot the confusion matrix on the test set and explain the reason for your false negatives/positives."
      ],
      "metadata": {
        "id": "HpqlVUyn5dZF"
      }
    },
    {
      "cell_type": "code",
      "source": [
        "[Your code here]"
      ],
      "metadata": {
        "id": "KkPADrA65YeN"
      },
      "execution_count": null,
      "outputs": []
    },
    {
      "cell_type": "markdown",
      "source": [
        "**Observations**\n",
        "\n",
        "[_____]"
      ],
      "metadata": {
        "id": "nC6dT1Jg5oP8"
      }
    },
    {
      "cell_type": "markdown",
      "source": [
        "# Regression **(13pt)**\n",
        "You will now train k-NN and neural network models for the task of predicting\n",
        "the rating of a text review.\n",
        "\n",
        "The data to download are **[here](https://raw.githubusercontent.com/davoodwadi/MATH60629A.A2023-MACHINE-LEARNING-I/main/data/reviews.tsv)**.\n",
        "\n",
        "Each datum is a review in text format of an Amazon product.\n",
        "In the data file, each line corresponds to a datum. Each datum contains a target (y) followed by a short text (x). The target variable is the rating given by a user to a product. It is an integer value between 1 and 5. The text is the review.\n",
        "\n",
        "To pre-process the data you will first have to separate the targets from the features.\n",
        "*Hint: you can use the `split(’\\t’)` function. There are also functions in `pandas` that will allow you to easily load this dataset.*"
      ],
      "metadata": {
        "id": "e9XmOIOg-kZx"
      }
    },
    {
      "cell_type": "markdown",
      "source": [
        "We will model this task as a regression problem (you can use mean squared error to measure performance).\n",
        "1. **(0.5pt)** If we had decided to model this task as a classification problem with 5 classes, what are some of the metrics we could have used to measure performance?"
      ],
      "metadata": {
        "id": "eLxUJ52WAH49"
      }
    },
    {
      "cell_type": "markdown",
      "source": [
        "**answer**\n",
        "\n",
        "[_________________________]"
      ],
      "metadata": {
        "id": "175xmSSwu_y-"
      }
    },
    {
      "cell_type": "markdown",
      "source": [
        "2. List one **(0.5pt)** advantage and one **(0.5pt)** disadvantage of instead modelling the problem as a classification problem with 5 classes."
      ],
      "metadata": {
        "id": "ves0naFX6VwG"
      }
    },
    {
      "cell_type": "markdown",
      "source": [
        "**answer**\n",
        "\n",
        "Advantage:\n",
        "\n",
        "[____]\n",
        "\n",
        "Disadvantage:\n",
        "\n",
        "[____]\n",
        "\n"
      ],
      "metadata": {
        "id": "4Qu9_GBE6XGg"
      }
    },
    {
      "cell_type": "code",
      "source": [
        "# download and load the dataset\n",
        "[Your code here]"
      ],
      "metadata": {
        "id": "ZN3uGAWZ8j6F"
      },
      "execution_count": null,
      "outputs": []
    },
    {
      "cell_type": "markdown",
      "source": [
        "3. **(0.5pt)** Divide the datasets into training (80% of the data), validation (10%), and test sets (10%). For this set the random seed to $1234$\n",
        "(`random state=1234`)"
      ],
      "metadata": {
        "id": "wXL0KHCevPNX"
      }
    },
    {
      "cell_type": "code",
      "source": [
        "[Your code here]"
      ],
      "metadata": {
        "id": "ST-bvHfA-275"
      },
      "execution_count": null,
      "outputs": []
    },
    {
      "cell_type": "markdown",
      "source": [
        "4. **(2pt)** Now you must obtain a bag-of-words representation of the features.\n",
        "sklearn provides several functions for doing so.\n",
        "\n",
        "To limit the required training time, please use a maximum of 2,000 words\n",
        "in your vocabulary (`max features=2000`) and the list of english stop words\n",
        "from sklearn (`stop words=\"english\"`). Words on this list will be automatically removed from the data since they are, a priori, less predictive for\n",
        "the task at hand. Use the default value for all other function parameters."
      ],
      "metadata": {
        "id": "swLMbAsFxGAo"
      }
    },
    {
      "cell_type": "code",
      "source": [
        "[Your code here]"
      ],
      "metadata": {
        "id": "hHNhBK-2v6Av"
      },
      "execution_count": null,
      "outputs": []
    },
    {
      "cell_type": "markdown",
      "source": [
        "**k-nearest neighbours**\n",
        "5. **(0.5pt)** Which of the following three distance functions ‘cosine’, ’euclidean’,\n",
        "and ‘manhattan’ do you deem more appropriate for this problem? Please\n",
        "justify."
      ],
      "metadata": {
        "id": "5tGC7De22__p"
      }
    },
    {
      "cell_type": "markdown",
      "source": [
        "**answer**\n",
        "[_________________________]"
      ],
      "metadata": {
        "id": "mshdhWoo3PE5"
      }
    },
    {
      "cell_type": "markdown",
      "source": [
        "6. **(1pt)** Train an appropriate k-NN model for this\n",
        "task. We ask that you train models with 1, 10, 50, 100, and 1000 neighbours."
      ],
      "metadata": {
        "id": "kflSjqHC3RXw"
      }
    },
    {
      "cell_type": "code",
      "source": [
        "[Your code here]"
      ],
      "metadata": {
        "id": "Is7K9r103Odg"
      },
      "execution_count": null,
      "outputs": []
    },
    {
      "cell_type": "markdown",
      "source": [
        "7. **(0.5pt)** What is the performance of each model on the training and validation\n",
        "sets?"
      ],
      "metadata": {
        "id": "EOYRFdq47O3S"
      }
    },
    {
      "cell_type": "code",
      "source": [
        "[Your code here]"
      ],
      "metadata": {
        "id": "BUekZjye41eO"
      },
      "execution_count": null,
      "outputs": []
    },
    {
      "cell_type": "markdown",
      "source": [
        "**Observations**"
      ],
      "metadata": {
        "id": "DJE-kvBr7WHY"
      }
    },
    {
      "cell_type": "markdown",
      "source": [
        "8. **(0.5pt)** What value of the hyperparameter provides the best results?"
      ],
      "metadata": {
        "id": "ELwBVDvx7N8_"
      }
    },
    {
      "cell_type": "markdown",
      "source": [
        "**answer**\n",
        "\n",
        "[_________________________]"
      ],
      "metadata": {
        "id": "CQ8Aw1jj7SCP"
      }
    },
    {
      "cell_type": "markdown",
      "source": [
        "**Neural Networks**\n",
        "\n",
        "Upon instantiating your neural networks, fix the random seed to 1234 (that is\n",
        "`random state=1234`)."
      ],
      "metadata": {
        "id": "-zzbbaoL7D-Y"
      }
    },
    {
      "cell_type": "markdown",
      "source": [
        "9. **(2pt)** You will now train a series of neural networks using different hyperparameters. Use the option `early_stopping=True` and find the hyperparameters that obtain the best results on the validation dataset (to give\n",
        "you an idea, I imagine that you will train around 50 different models).\n",
        "I suggest that you explore the following three hyperarameters: *learning_rate*, *size of the network*, and *the strength of the L2 regularization term*."
      ],
      "metadata": {
        "id": "bENyu01L79VX"
      }
    },
    {
      "cell_type": "code",
      "source": [
        "[Your code here]"
      ],
      "metadata": {
        "id": "SWvgPWqu76qw"
      },
      "execution_count": null,
      "outputs": []
    },
    {
      "cell_type": "markdown",
      "source": [
        "10. **(0.5pt)** Find the MSE on the test set for the best hyperparameter."
      ],
      "metadata": {
        "id": "MyTi_5m8DtyT"
      }
    },
    {
      "cell_type": "code",
      "source": [
        "[Your code here]"
      ],
      "metadata": {
        "id": "uWnPvGhSD7DK"
      },
      "execution_count": null,
      "outputs": []
    },
    {
      "cell_type": "markdown",
      "source": [
        " 11. **(0.5pt)** What did you find out about the importance of the various hyperparameters?"
      ],
      "metadata": {
        "id": "8VJTqGv-DqiT"
      }
    },
    {
      "cell_type": "markdown",
      "source": [
        "**answer**\n",
        "\n",
        "[_____]"
      ],
      "metadata": {
        "id": "O05aX8rhEAoS"
      }
    },
    {
      "cell_type": "markdown",
      "source": [
        "**Comparison**"
      ],
      "metadata": {
        "id": "IZcDfOFFEHGL"
      }
    },
    {
      "cell_type": "markdown",
      "source": [
        "12. **(0.5pt)** Based on the neural network that you trained, if you were to keep a single feature (that is a single word), which one would it be and why?"
      ],
      "metadata": {
        "id": "MH2wnwsRELRC"
      }
    },
    {
      "cell_type": "code",
      "source": [
        "[Your code here]"
      ],
      "metadata": {
        "id": "U3obO2tMGCEY"
      },
      "execution_count": null,
      "outputs": []
    },
    {
      "cell_type": "markdown",
      "source": [
        "**answer**\n",
        "\n",
        "[_____]"
      ],
      "metadata": {
        "id": "vriw6foFEROy"
      }
    },
    {
      "cell_type": "markdown",
      "source": [
        "13. **(0.5pt)** What is the final performance of each model (k-NN, and neural\n",
        "network)?"
      ],
      "metadata": {
        "id": "Be6u--CkETqq"
      }
    },
    {
      "cell_type": "code",
      "source": [
        "[Your code here]"
      ],
      "metadata": {
        "id": "MmAg3d6pEGyk"
      },
      "execution_count": null,
      "outputs": []
    },
    {
      "cell_type": "markdown",
      "source": [
        "14. **(1pt)** Find all the examples for which the prediction of the k-NN and the neural network differ by more than $2.0$."
      ],
      "metadata": {
        "id": "Gk-plRMnEjZl"
      }
    },
    {
      "cell_type": "code",
      "source": [
        "[Your code here]"
      ],
      "metadata": {
        "id": "QdzozXe9CJYQ"
      },
      "execution_count": null,
      "outputs": []
    },
    {
      "cell_type": "markdown",
      "source": [
        "15. **(0.5pt)** Plot the distribution of the actual labels, and the predicted labels from k-NN and neural network."
      ],
      "metadata": {
        "id": "Nt3H62bnAK4p"
      }
    },
    {
      "cell_type": "code",
      "source": [
        "[Your code here]"
      ],
      "metadata": {
        "id": "uyNQm0vr_R7m"
      },
      "execution_count": null,
      "outputs": []
    },
    {
      "cell_type": "markdown",
      "source": [
        "16. **(0.5pt)** Explain the reason behind the difference in prediction from k-NN and the actual labels."
      ],
      "metadata": {
        "id": "pbEk6v_YEtp0"
      }
    },
    {
      "cell_type": "markdown",
      "source": [
        "**answer**\n",
        "\n",
        "[_____]"
      ],
      "metadata": {
        "id": "Sa_1oscxApBi"
      }
    },
    {
      "cell_type": "markdown",
      "source": [
        "17. **(0.5pt)** Explain the reason behind the difference in prediction from the neural network and the actual labels."
      ],
      "metadata": {
        "id": "rqntOIfUAtrZ"
      }
    },
    {
      "cell_type": "markdown",
      "source": [
        "**answer**\n",
        "\n",
        "[_____]"
      ],
      "metadata": {
        "id": "yEb0QJlDA0sx"
      }
    }
  ]
}